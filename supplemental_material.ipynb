{
  "cells": [
    {
      "cell_type": "markdown",
      "metadata": {
        "id": "view-in-github",
        "colab_type": "text"
      },
      "source": [
        "<a href=\"https://colab.research.google.com/github/gt-cse-6040/topic_12_notebooks/blob/main/supplemental_material.ipynb\" target=\"_parent\"><img src=\"https://colab.research.google.com/assets/colab-badge.svg\" alt=\"Open In Colab\"/></a>"
      ]
    },
    {
      "cell_type": "markdown",
      "metadata": {
        "nbgrader": {
          "grade": false,
          "locked": true,
          "solution": false
        },
        "id": "DQAUt_QI6-rN"
      },
      "source": [
        "# Part 1: Supplemental Background on Numpy\n",
        "\n",
        "This notebook is a quick overview of additional functionality in Numpy. It is intended to supplement the videos and the other parts of this assignment. It does **not** contain any exercises that you need to submit."
      ]
    },
    {
      "cell_type": "code",
      "execution_count": null,
      "metadata": {
        "nbgrader": {
          "grade": false,
          "locked": false,
          "solution": false
        },
        "id": "fHbbsmOb6-rR"
      },
      "outputs": [],
      "source": [
        "import sys\n",
        "print(sys.version)\n",
        "\n",
        "import numpy as np\n",
        "print(np.__version__)"
      ]
    },
    {
      "cell_type": "markdown",
      "metadata": {
        "nbgrader": {
          "grade": false,
          "locked": true,
          "solution": false
        },
        "id": "RwrkHI7w6-rS"
      },
      "source": [
        "# Random numbers #"
      ]
    },
    {
      "cell_type": "markdown",
      "metadata": {
        "nbgrader": {
          "grade": false,
          "locked": true,
          "solution": false
        },
        "id": "_kUGf7p46-rS"
      },
      "source": [
        "Numpy has a rich collection of (pseudo) random number generators. See the documentation for [numpy.random](https://numpy.org/doc/stable/reference/random/index.html) for more details."
      ]
    },
    {
      "cell_type": "code",
      "execution_count": null,
      "metadata": {
        "nbgrader": {
          "grade": false,
          "locked": false,
          "solution": false
        },
        "id": "isrziAh76-rT"
      },
      "outputs": [],
      "source": [
        "from numpy.random import default_rng\n",
        "rng = default_rng()\n",
        "\n",
        "A = rng.integers(-10, 10, size=(4, 3)) # return random integers from -10 (inclusive) to 10 (exclusive)\n",
        "print(A)"
      ]
    },
    {
      "cell_type": "code",
      "execution_count": null,
      "metadata": {
        "nbgrader": {
          "grade": false,
          "locked": false,
          "solution": false
        },
        "id": "-msqEHVi6-rT"
      },
      "outputs": [],
      "source": [
        "np.mean(A.T, axis=1)"
      ]
    },
    {
      "cell_type": "markdown",
      "metadata": {
        "nbgrader": {
          "grade": false,
          "locked": false,
          "solution": false
        },
        "id": "NXQ1PdiA6-rT"
      },
      "source": [
        "# Aggregations or reductions #"
      ]
    },
    {
      "cell_type": "markdown",
      "metadata": {
        "nbgrader": {
          "grade": false,
          "locked": false,
          "solution": false
        },
        "id": "MV45ar6s6-rU"
      },
      "source": [
        "Suppose you want to reduce the values of a Numpy array to a smaller number of values. Numpy provides a number of such functions that _aggregate_ values. Examples of aggregations include sums, min/max calculations, and averaging, among others."
      ]
    },
    {
      "cell_type": "code",
      "execution_count": null,
      "metadata": {
        "id": "EMf3l19T6-rU"
      },
      "outputs": [],
      "source": [
        "print(\"np.max =\", np.max(A),\"; np.amax =\", np.amax(A)) # np.max() and np.amax() are synonyms\n",
        "print(\"np.min =\",np.min(A),\"; np.amin =\", np.amin(A)) # same\n",
        "print(\"np.sum =\",np.sum(A))\n",
        "print(\"np.mean =\",np.mean(A))\n",
        "print(\"np.std =\",np.std(A))"
      ]
    },
    {
      "cell_type": "markdown",
      "metadata": {
        "id": "BOWX2jJn6-rV"
      },
      "source": [
        "The above examples aggregate over all values. But you can also aggregate along a dimension using the optional `axis` parameter."
      ]
    },
    {
      "cell_type": "code",
      "execution_count": null,
      "metadata": {
        "id": "xljy4KeN6-rV"
      },
      "outputs": [],
      "source": [
        "print(\"Max in each column:\", np.amax(A, axis=0)) # i.e., aggregate along axis 0, the rows, producing column maxes\n",
        "print(\"Max in each row:\", np.amax(A, axis=1)) # i.e., aggregate along axis 1, the columns, producing row maxes"
      ]
    },
    {
      "cell_type": "markdown",
      "metadata": {
        "nbgrader": {
          "grade": false,
          "locked": true,
          "solution": false
        },
        "id": "4CUifId86-rW"
      },
      "source": [
        "# Universal functions"
      ]
    },
    {
      "cell_type": "markdown",
      "metadata": {
        "nbgrader": {
          "grade": false,
          "locked": true,
          "solution": false
        },
        "id": "RlOwNsob6-rW"
      },
      "source": [
        "Universal functions apply a given function _elementwise_ to one or more Numpy objects.\n",
        "\n",
        "For instance, `np.abs(A)` takes the absolute value of each element."
      ]
    },
    {
      "cell_type": "code",
      "execution_count": null,
      "metadata": {
        "id": "EY-R39b86-rW"
      },
      "outputs": [],
      "source": [
        "print(A, \"\\n==>\\n\", np.abs(A))"
      ]
    },
    {
      "cell_type": "markdown",
      "metadata": {
        "nbgrader": {
          "grade": false,
          "locked": true,
          "solution": false
        },
        "id": "HYX3HlRj6-rW"
      },
      "source": [
        "Some universal functions accept multiple, compatible arguments. For instance, here, we compute the _elementwise maximum_ between two matrices, $A$ and $B$, producing a new matrix $C$ such that $c_{ij} = \\max(a_{ij}, b_{ij})$.\n",
        "\n",
        "> The matrices must have compatible shapes, which we will elaborate on below when we discuss Numpy's _broadcasting rule_."
      ]
    },
    {
      "cell_type": "code",
      "execution_count": null,
      "metadata": {
        "id": "KlUT9cLI6-rY"
      },
      "outputs": [],
      "source": [
        "print(A) # recall A"
      ]
    },
    {
      "cell_type": "code",
      "execution_count": null,
      "metadata": {
        "id": "XKboabET6-rY"
      },
      "outputs": [],
      "source": [
        "B = rng.integers(-10, 10, size=A.shape)\n",
        "print(B)"
      ]
    },
    {
      "cell_type": "code",
      "execution_count": null,
      "metadata": {
        "id": "2uj_ssR46-rZ"
      },
      "outputs": [],
      "source": [
        "C = np.maximum(A, B) # elementwise comparison\n",
        "print(C)"
      ]
    },
    {
      "cell_type": "markdown",
      "metadata": {
        "nbgrader": {
          "grade": false,
          "locked": true,
          "solution": false
        },
        "id": "ZX0AFZx86-rZ"
      },
      "source": [
        "You can also build your own universal functions! For instance, suppose we want a way to compute, elementwise, $f(x) = e^{-x^2}$ and we have a scalar function that can do so:"
      ]
    },
    {
      "cell_type": "code",
      "execution_count": null,
      "metadata": {
        "id": "nS9jGtdE6-rZ"
      },
      "outputs": [],
      "source": [
        "def f(x):\n",
        "    from math import exp\n",
        "    return exp(-(x**2))"
      ]
    },
    {
      "cell_type": "markdown",
      "metadata": {
        "nbgrader": {
          "grade": false,
          "locked": true,
          "solution": false
        },
        "id": "MQp-mTtk6-rZ"
      },
      "source": [
        "This function accepts one input (`x`) and returns a single output. The following will create a new Numpy universal function `f_np`.\n",
        "See the documentation for [np.frompyfunc()](https://docs.scipy.org/doc/numpy/reference/generated/numpy.frompyfunc.html) for more details."
      ]
    },
    {
      "cell_type": "code",
      "execution_count": null,
      "metadata": {
        "id": "XEu447rW6-rZ"
      },
      "outputs": [],
      "source": [
        "f_np = np.frompyfunc(f, 1, 1)\n",
        "\n",
        "print(A, \"\\n=>\\n\", f_np(A))"
      ]
    },
    {
      "cell_type": "markdown",
      "metadata": {
        "nbgrader": {
          "grade": false,
          "locked": true,
          "solution": false
        },
        "id": "Dcp6x9kN6-rZ"
      },
      "source": [
        "# Broadcasting #"
      ]
    },
    {
      "cell_type": "markdown",
      "metadata": {
        "nbgrader": {
          "grade": false,
          "locked": true,
          "solution": false
        },
        "id": "fxPIZhAK6-ra"
      },
      "source": [
        "Sometimes we want to combine operations on Numpy arrays that have different shapes but are _compatible_.\n",
        "\n",
        "In the following example, we want to add 3 elementwise to every value in `A`."
      ]
    },
    {
      "cell_type": "code",
      "execution_count": null,
      "metadata": {
        "id": "hrdSS52_6-ra"
      },
      "outputs": [],
      "source": [
        "print(A)\n",
        "print()\n",
        "print(A + 3)"
      ]
    },
    {
      "cell_type": "markdown",
      "metadata": {
        "nbgrader": {
          "grade": false,
          "locked": true,
          "solution": false
        },
        "id": "fZaqF15k6-ra"
      },
      "source": [
        "Technically, `A` and `3` have different shapes: the former is a $4 \\times 3$ matrix, while the latter is a scalar ($1 \\times 1$). However, they are compatible because Numpy knows how to _extend_---or **broadcast**---the value 3 into an equivalent matrix object of the same shape in order to combine them."
      ]
    },
    {
      "cell_type": "markdown",
      "metadata": {
        "nbgrader": {
          "grade": false,
          "locked": true,
          "solution": false
        },
        "id": "Fv_8o1x66-ra"
      },
      "source": [
        "To see a more sophisticated example, suppose each row `A[i, :]` are the coordinates of a data point, and we want to compute the centroid of all the data points (or center-of-mass, if we imagine each point is a unit mass). That's the same as computing the mean coordinate for each column:"
      ]
    },
    {
      "cell_type": "code",
      "execution_count": null,
      "metadata": {
        "id": "LW5ZP9VY6-ra"
      },
      "outputs": [],
      "source": [
        "A_row_means = np.mean(A, axis=0)\n",
        "\n",
        "print(A, \"\\n=>\\n\", A_row_means)"
      ]
    },
    {
      "cell_type": "markdown",
      "metadata": {
        "nbgrader": {
          "grade": false,
          "locked": true,
          "solution": false
        },
        "id": "Cjnk6QnX6-ra"
      },
      "source": [
        "Now, suppose you want to shift the points so that their mean is zero. Even though they don't have the same shape, Numpy will interpret `A - A_row_means` as precisely this operation, effectively extending or \"replicating\" `A_row_means` into rows of a matrix of the same shape as `A`, in order to then perform elementwise subtraction."
      ]
    },
    {
      "cell_type": "code",
      "execution_count": null,
      "metadata": {
        "id": "wMPw4PF96-ra"
      },
      "outputs": [],
      "source": [
        "A_row_centered = A - A_row_means\n",
        "A_row_centered"
      ]
    },
    {
      "cell_type": "markdown",
      "metadata": {
        "id": "20kHWQ1T6-rb"
      },
      "source": [
        "Suppose you instead want to mean-center the _columns_ instead of the rows. You could start by computing column means:"
      ]
    },
    {
      "cell_type": "code",
      "execution_count": null,
      "metadata": {
        "id": "mGGt2D2d6-rb"
      },
      "outputs": [],
      "source": [
        "A_col_means = np.mean(A, axis=1)\n",
        "\n",
        "print(A, \"\\n=>\\n\", A_col_means)"
      ]
    },
    {
      "cell_type": "markdown",
      "metadata": {
        "id": "JuZ1aWbc6-rb"
      },
      "source": [
        "But the same operation will fail!"
      ]
    },
    {
      "cell_type": "code",
      "execution_count": null,
      "metadata": {
        "id": "9ZLF01qf6-rb"
      },
      "outputs": [],
      "source": [
        "#A - A_col_means # Fails!"
      ]
    },
    {
      "cell_type": "markdown",
      "metadata": {
        "nbgrader": {
          "grade": false,
          "locked": true,
          "solution": false
        },
        "id": "In42fY6z6-rb"
      },
      "source": [
        "The error reports that these shapes are not compatible. So how can you fix it?\n",
        "\n",
        "**Broadcasting rule.** One way is to learn Numpy's convention for **[broadcasting](https://docs.scipy.org/doc/numpy/reference/ufuncs.html#broadcasting)**. Numpy starts by looking at the shapes of the objects:"
      ]
    },
    {
      "cell_type": "code",
      "execution_count": null,
      "metadata": {
        "id": "ZgWtbO-E6-rb"
      },
      "outputs": [],
      "source": [
        "print(A.shape, A_row_means.shape)"
      ]
    },
    {
      "cell_type": "markdown",
      "metadata": {
        "nbgrader": {
          "grade": false,
          "locked": true,
          "solution": false
        },
        "id": "1NIwVGlA6-rb"
      },
      "source": [
        "These are compatible if, starting from _right_ to _left_, the dimensions match **or** one of the dimensions is 1. This convention of moving from right to left is referred to as matching the _trailing dimensions_. In this example, the rightmost dimensions of each object are both 3, so they match. Since `A_row_means` has no more dimensions, it can be replicated to match the remaining dimensions of `A`."
      ]
    },
    {
      "cell_type": "markdown",
      "metadata": {
        "id": "uFNbiKfU6-rb"
      },
      "source": [
        "By contrast, consider the shapes of `A` and `A_col_means`:"
      ]
    },
    {
      "cell_type": "code",
      "execution_count": null,
      "metadata": {
        "id": "5VSg0Ruu6-rb"
      },
      "outputs": [],
      "source": [
        "print(A.shape, A_col_means.shape)"
      ]
    },
    {
      "cell_type": "markdown",
      "metadata": {
        "nbgrader": {
          "grade": false,
          "locked": true,
          "solution": false
        },
        "id": "vHW6yaCf6-rl"
      },
      "source": [
        "In this case, per the broadcasting rule, the trailing dimensions of 3 and 4 do not match. Therefore, the broadcast rule fails. To make it work, we need to modify `A_col_means` to have a unit trailing dimension. Use Numpy's [`reshape()`](https://docs.scipy.org/doc/numpy/reference/generated/numpy.reshape.html) to convert `A_col_means` into a shape that has an explicit trailing dimension of size 1."
      ]
    },
    {
      "cell_type": "code",
      "execution_count": null,
      "metadata": {
        "id": "niVbIAgn6-rl"
      },
      "outputs": [],
      "source": [
        "A_col_means2 = np.reshape(A_col_means, (len(A_col_means), 1))\n",
        "print(A_col_means2, \"=>\", A_col_means2.shape)"
      ]
    },
    {
      "cell_type": "markdown",
      "metadata": {
        "nbgrader": {
          "grade": false,
          "locked": true,
          "solution": false
        },
        "id": "8uOgiqPV6-rl"
      },
      "source": [
        "Now the trailing dimension equals 1, so it can be matched against the trailing dimension of `A`. The next dimension is the same between the two objects, so Numpy knows it can replicate accordingly."
      ]
    },
    {
      "cell_type": "code",
      "execution_count": null,
      "metadata": {
        "nbgrader": {
          "grade": false,
          "locked": false,
          "solution": false
        },
        "id": "PodNifPK6-rm"
      },
      "outputs": [],
      "source": [
        "print(\"A - A_col_means2\\n\\n\", A, \"\\n-\", A_col_means2)\n",
        "print(\"\\n=>\\n\", A - A_col_means2)"
      ]
    },
    {
      "cell_type": "markdown",
      "metadata": {
        "nbgrader": {
          "grade": false,
          "locked": true,
          "solution": false
        },
        "id": "ANCrb3ts6-rm"
      },
      "source": [
        "**Thought exercise.** As a thought exercise, you might see if you can generalize and apply the broadcasting rule to a 3-way array."
      ]
    },
    {
      "cell_type": "markdown",
      "metadata": {
        "id": "4UkTJOoh6-rm"
      },
      "source": [
        "# Matrix products #\n",
        "\n",
        "Given two multidimensional arrays, there are several notions of \"multiplying them\" together. The two most common are the _elementwise_ (or _Hadamard_) product and _matrix multiplication_."
      ]
    },
    {
      "cell_type": "markdown",
      "metadata": {
        "id": "jdfuR5SY6-rn"
      },
      "source": [
        "**Elementwise (\"Hadamard\") product.** Given two multidimensional array objects with the _same_ shape, the elementwise product is result of multiplying the corresponding elements.\n",
        "\n",
        "For instance, recall `A` from above and suppose `B` has the same shape:"
      ]
    },
    {
      "cell_type": "code",
      "execution_count": null,
      "metadata": {
        "id": "64Ru3ImT6-rn"
      },
      "outputs": [],
      "source": [
        "print(A)"
      ]
    },
    {
      "cell_type": "code",
      "execution_count": null,
      "metadata": {
        "id": "5GllWRZM6-rn"
      },
      "outputs": [],
      "source": [
        "B = rng.integers(-10, 10, size=A.shape)\n",
        "print(B)"
      ]
    },
    {
      "cell_type": "markdown",
      "metadata": {
        "id": "_7QgdcnO6-rn"
      },
      "source": [
        "The elementwise product is an array `C` such that `C[i, j] = A[i, j] * B[i, j]`, which can be invoked via the `*` operator:"
      ]
    },
    {
      "cell_type": "code",
      "execution_count": null,
      "metadata": {
        "id": "eY7aaV1Q6-rn"
      },
      "outputs": [],
      "source": [
        "A * B"
      ]
    },
    {
      "cell_type": "markdown",
      "metadata": {
        "id": "KREFPlga6-rn"
      },
      "source": [
        "**Matrix multiplication.** Given two matrices, say $A$ of size $m \\times k$ and $B$ of size $k \\times n$, the matrix product (or matrix multiplication) is a matrix $C$ of size $m \\times n$ such that $c_{i,j} = \\sum_{s=0}^{k-1} a_{i, s} b_{s, j}$.\n",
        "\n",
        "For example, consider:"
      ]
    },
    {
      "cell_type": "code",
      "execution_count": null,
      "metadata": {
        "id": "ZhyITuHF6-ro"
      },
      "outputs": [],
      "source": [
        "print(f\"A ==\\n{A}\\n\")\n",
        "B = rng.integers(-10, 10, size=(A.shape[1], 5))\n",
        "print(f\"B ==\\n{B}\")"
      ]
    },
    {
      "cell_type": "markdown",
      "metadata": {
        "id": "oSi1zLFe6-ro"
      },
      "source": [
        "The matrix product or matrix multiplication can be carried out using either of these two constructs:"
      ]
    },
    {
      "cell_type": "code",
      "execution_count": null,
      "metadata": {
        "id": "3de2yI5N6-ro"
      },
      "outputs": [],
      "source": [
        "C = A.dot(B)\n",
        "print(C)"
      ]
    },
    {
      "cell_type": "code",
      "execution_count": null,
      "metadata": {
        "id": "OtAovMU56-ro"
      },
      "outputs": [],
      "source": [
        "C = A @ B\n",
        "print(C)"
      ]
    },
    {
      "cell_type": "markdown",
      "metadata": {
        "nbgrader": {
          "grade": false,
          "locked": true,
          "solution": false
        },
        "id": "vFZRl8Sk6-ro"
      },
      "source": [
        "**Fin!** That marks the end of this notebook. If you want to learn more, checkout the second edition of [Python for Data Analysis](http://shop.oreilly.com/product/0636920050896.do) (released in October 2017)."
      ]
    },
    {
      "cell_type": "code",
      "execution_count": null,
      "metadata": {
        "nbgrader": {
          "grade": true,
          "grade_id": "dummy",
          "locked": true,
          "points": "0",
          "solution": false
        },
        "id": "qJKwB00U6-rp"
      },
      "outputs": [],
      "source": [
        "pass # Dummy cell"
      ]
    }
  ],
  "metadata": {
    "kernelspec": {
      "display_name": "Python 3 (ipykernel)",
      "language": "python",
      "name": "python3"
    },
    "language_info": {
      "codemirror_mode": {
        "name": "ipython",
        "version": 3
      },
      "file_extension": ".py",
      "mimetype": "text/x-python",
      "name": "python",
      "nbconvert_exporter": "python",
      "pygments_lexer": "ipython3",
      "version": "3.9.13"
    },
    "colab": {
      "provenance": [],
      "include_colab_link": true
    }
  },
  "nbformat": 4,
  "nbformat_minor": 0
}