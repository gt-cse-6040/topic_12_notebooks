{
  "cells": [
    {
      "cell_type": "markdown",
      "metadata": {
        "id": "view-in-github",
        "colab_type": "text"
      },
      "source": [
        "<a href=\"https://colab.research.google.com/github/gt-cse-6040/topic_12_notebooks/blob/main/math%20as%20code.ipynb\" target=\"_parent\"><img src=\"https://colab.research.google.com/assets/colab-badge.svg\" alt=\"Open In Colab\"/></a>"
      ]
    },
    {
      "cell_type": "markdown",
      "id": "94d48612",
      "metadata": {
        "id": "94d48612"
      },
      "source": [
        "_Main topics covered during today's session:_\n",
        "    \n",
        "This NB:\n",
        "\n",
        "1. **Math as Code**\n",
        "    \n",
        "    a. *Notation*\n",
        "    \n",
        "    b. *Sigma and Capital Pi*\n",
        "    \n",
        "    c. *Other Symbols*\n",
        "    \n",
        "    d. *Functions*"
      ]
    },
    {
      "cell_type": "code",
      "execution_count": null,
      "id": "1c9e9523",
      "metadata": {
        "id": "1c9e9523"
      },
      "outputs": [],
      "source": [
        "import numpy as np\n",
        "import pandas as pd"
      ]
    },
    {
      "cell_type": "markdown",
      "id": "9f991718",
      "metadata": {
        "id": "9f991718"
      },
      "source": [
        "## Why are we covering this topic?\n",
        "\n",
        "For the remainder of the course, the students will be developing the algorithms for the analysis of data, including linear regression, classification, kmeans, knn, and PCA. While Python has library modules which perform these functions simply by importing and calling them, the class purpose is for you to understand the computational methods underlying these functions.\n",
        "\n",
        "As you will see/have seen in the Lesson 12 videos for Linear Regression, we will be working through understanding the underlying logic behind the function, and then deriving the appropriate algorithm for it in mathematical terms. In the end we will have an algorithm, or a mathematical formula, which we will then put into Python code.\n",
        "\n",
        "Additionally, in the homework notebooks and final exam, you MAY be asked to create an equation in code, given an analysis scenario and an equation to reproduce. An example of this that you have already seen is in Practice MidTerm 1 Problem 26. You we provided an equation for computing correlation, and the exercise required you to write a function to output the correlation.\n",
        "\n",
        "Finally, many of the classes in this program require the student to work through deriving the algorithms and writing them in code.\n",
        "\n",
        "#### Here is the (summarized) requirement from the PMT1.26 notebook:"
      ]
    },
    {
      "cell_type": "markdown",
      "id": "d0e2e63d",
      "metadata": {
        "id": "d0e2e63d"
      },
      "source": [
        "Given `data`, a `list` of `dicts`, and `keys`, a `list` of `strings`, complete the function `create_cor_dict(data, key)` to find the correlation between each nutrient listed and all of the other nutrients listed.\n",
        "\n",
        "Each dictionary in `data` should be treated as a single observation. You can compute the correlation with the following formulas.\n",
        "- $n$ is the number of observations.\n",
        "- $\\bar{x}, \\bar{y}$ - Means nutrient $x$, and nutrient $y$.\n",
        "- $\\bar{xy} = \\frac{1}{n}\\sum_{i=0}^{n-1}x_iy_i$\n",
        "- $\\sigma_x =$ **population** standard deviation - check your stats notes and documentation to make sure that you are calculating this correctly\n",
        "- Correlation: $$c=\\frac{\\bar{xy} - (\\bar{x})(\\bar{y})}{\\sigma_x \\sigma_y}$$"
      ]
    },
    {
      "cell_type": "markdown",
      "id": "62ab06c3",
      "metadata": {
        "id": "62ab06c3"
      },
      "source": [
        "#### As you can see, you have been given an equation and required to write a function for that equation.\n",
        "\n",
        "If you want to review the problem, you can access the solution on the PMT1 solutions page."
      ]
    },
    {
      "cell_type": "markdown",
      "id": "648b2aa8",
      "metadata": {
        "id": "648b2aa8"
      },
      "source": [
        "Finally, another example is the Fall 2022 Final Exam, which we will begin working through later in this session. Exercises 4, 5, and 6 (which we will be covering next session) all provide a mathematical concept and equation for the student to replicate in code.\n",
        "\n",
        "#### So let's get started."
      ]
    },
    {
      "cell_type": "markdown",
      "id": "4a28bdcc",
      "metadata": {
        "id": "4a28bdcc"
      },
      "source": [
        "## Notation Conventions"
      ]
    },
    {
      "cell_type": "markdown",
      "id": "e3739b09",
      "metadata": {
        "id": "e3739b09"
      },
      "source": [
        "In general, we will use the following conventions. For a more complete listing, see the following:  https://en.wikipedia.org/wiki/List_of_mathematical_symbols_by_subject"
      ]
    },
    {
      "cell_type": "markdown",
      "id": "16e0b750",
      "metadata": {
        "id": "16e0b750"
      },
      "source": [
        "### Variables\n",
        "\n",
        "\n",
        "- *s* - italic lowercase letters for scalars (e.g. a number)\n",
        "- **x** - bold lowercase letters for vectors (e.g. a 2D point)\n",
        "- **A** - bold uppercase letters for matrices (e.g. a 3D transformation)\n",
        "- *θ* - italic lowercase Greek letters for constants and special variables (e.g. [polar angle *θ*, *theta*](https://en.wikipedia.org/wiki/Spherical_coordinate_system))"
      ]
    },
    {
      "cell_type": "markdown",
      "id": "52b1f742",
      "metadata": {
        "id": "52b1f742"
      },
      "source": [
        "### Equality symbols in equations\n",
        "\n",
        "\n",
        "- `=` is for equality (values are the same)\n",
        "- `≠` is for inequality (value are not the same)\n",
        "- `≈` is for approximately equal to (`π ≈ 3.14159`)\n",
        "- `:=` is for definition (A is defined as B)"
      ]
    },
    {
      "cell_type": "code",
      "execution_count": null,
      "id": "31113665",
      "metadata": {
        "id": "31113665"
      },
      "outputs": [],
      "source": [
        "## some examples\n",
        "## equality\n",
        "2 == 3"
      ]
    },
    {
      "cell_type": "code",
      "execution_count": null,
      "id": "543b2475",
      "metadata": {
        "id": "543b2475"
      },
      "outputs": [],
      "source": [
        "## inequality\n",
        "2 != 3"
      ]
    },
    {
      "cell_type": "code",
      "execution_count": null,
      "id": "f94d705d",
      "metadata": {
        "id": "f94d705d"
      },
      "outputs": [],
      "source": [
        "## approximately equal\n",
        "import math\n",
        "print(math.isclose(math.pi, 3.14, rel_tol = 1e-09, abs_tol = 0.0))\n",
        "print(math.isclose(2.005, 2.125, abs_tol = 0.25))\n",
        "\n",
        "## Documentation:\n",
        "## https://docs.python.org/3/library/math.html\n",
        "## https://www.geeksforgeeks.org/python-math-library-isclose-method/"
      ]
    },
    {
      "cell_type": "markdown",
      "id": "e70b336a",
      "metadata": {
        "id": "e70b336a"
      },
      "source": [
        "### Sigma\n",
        "\n",
        "The Greek `Σ` (Sigma) is for [Summation](https://en.wikipedia.org/wiki/Summation). In other words: summing up some numbers.\n",
        "\n",
        "$$\\sum_{i=1}^{100}i$$\n",
        "\n",
        "Here, `i=1` says to start at `1` and end at the number above the Sigma, `100`. These are the lower and upper bounds, respectively. The `i` to the right of the `Σ` is what we are summing.\n",
        "\n",
        "range() function:  https://www.geeksforgeeks.org/python-range-function/\n",
        "\n",
        "**Remember that**: `range()` in python has an `inclusive lower bound and exclusive upper bound`, meaning that `... for i in range(100)` is equivalent to `the sum of ... for i=0 to i=n-1`.\n",
        "\n",
        "We can also specify the lower and upper bounds, along with the step size (see below)."
      ]
    },
    {
      "cell_type": "code",
      "execution_count": null,
      "id": "6e53f23e",
      "metadata": {
        "id": "6e53f23e"
      },
      "outputs": [],
      "source": [
        "## example\n",
        "sum([i for i in range(101)])  ## why do we go to 101?"
      ]
    },
    {
      "cell_type": "code",
      "execution_count": null,
      "id": "32001c35",
      "metadata": {
        "id": "32001c35"
      },
      "outputs": [],
      "source": [
        "## same\n",
        "sum([i for i in range(1,101,1)])"
      ]
    },
    {
      "cell_type": "markdown",
      "id": "1ce0c9ee",
      "metadata": {
        "id": "1ce0c9ee"
      },
      "source": [
        "#### Let's look at a slightly more complex example.\n",
        "\n",
        "$$\\sum_{i=1}^{100}(2i+1)$$\n"
      ]
    },
    {
      "cell_type": "code",
      "execution_count": null,
      "id": "5ba50280",
      "metadata": {
        "id": "5ba50280"
      },
      "outputs": [],
      "source": [
        "sum([2*i + 1 for i in range(101)])"
      ]
    },
    {
      "cell_type": "code",
      "execution_count": null,
      "id": "828b80c6",
      "metadata": {
        "id": "828b80c6"
      },
      "outputs": [],
      "source": [
        "## more readable version\n",
        "sum([(2*i + 1) for i in range(101)])"
      ]
    },
    {
      "cell_type": "markdown",
      "id": "43fb72f5",
      "metadata": {
        "id": "43fb72f5"
      },
      "source": [
        "#### The summation notation can also be nested.\n",
        "\n",
        "This is the same as nesting a `for` loop. You should evaluate the right-most sigma first, unless the author has enclosed them in parentheses to alter the order. Below is a simple example, and since this example deals with with finite sums, the order does not matter. The best practice, however, is to work from right to left in the summations.\n",
        "\n",
        "$$\\sum_{i=1}^{5}\\sum_{j=2}^{10}(8ij)$$"
      ]
    },
    {
      "cell_type": "code",
      "execution_count": null,
      "id": "87a4b9bd",
      "metadata": {
        "id": "87a4b9bd"
      },
      "outputs": [],
      "source": [
        "# using for loops\n",
        "x = 0\n",
        "for i in range(1,6):\n",
        "    for j in range(2,11):\n",
        "            x += 8*i*j\n",
        "x"
      ]
    },
    {
      "cell_type": "code",
      "execution_count": null,
      "id": "09193947",
      "metadata": {
        "id": "09193947"
      },
      "outputs": [],
      "source": [
        "# using a comprehension\n",
        "sum([sum([(8*i*j)  for j in range(2,11)]) for i in range(1,6)])"
      ]
    },
    {
      "cell_type": "markdown",
      "id": "d8189aff",
      "metadata": {
        "id": "d8189aff"
      },
      "source": [
        "### Capital Pi\n",
        "\n",
        "The Capital Pi or \"Big Pi\" is very similar to Sigma ( $\\sum$ ), except we are using multiplication to find the product of a sequence of values.\n",
        "\n",
        "For example:\n",
        "\n",
        "$$ j = \\prod_{i=1}^{10}i$$"
      ]
    },
    {
      "cell_type": "markdown",
      "id": "51f3044b",
      "metadata": {
        "id": "51f3044b"
      },
      "source": [
        "This is the same as:\n",
        "\n",
        "1 * 2 * 3 * 4 * 5 * 6 * 7 * 8 * 9 * 10"
      ]
    },
    {
      "cell_type": "code",
      "execution_count": null,
      "id": "b4d5d003",
      "metadata": {
        "id": "b4d5d003"
      },
      "outputs": [],
      "source": [
        "## example\n",
        "j = 1  ## have to start with a positive number\n",
        "for i in range(1,11):\n",
        "    j = i*j\n",
        "j"
      ]
    },
    {
      "cell_type": "markdown",
      "id": "35eb3307",
      "metadata": {
        "id": "35eb3307"
      },
      "source": [
        "#### The reduce() function in Python is also good for doing accumulations, such as $\\sum$ and $\\prod$.\n",
        "\n",
        "It is part of the **functools** module, that you must import to use.\n",
        "\n",
        "The **reduce(fun,seq)** function is used to apply a particular function passed in its argument to all of the list elements that are in the sequence passed along.\n",
        "\n",
        "reduce() take two arguments:\n",
        "\n",
        "    1. fun -- This is the function to apply\n",
        "    2. seq -- The is the sequence that we want to apply the function on (generally a list or list-like variable)\n",
        "    \n",
        "Here is how it works:\n",
        "\n",
        "    1. At first step, first two elements of sequence are picked and the result is obtained.\n",
        "    \n",
        "    2. Next step is to apply the same function to the previously attained result and the number just succeeding the second element and the result is again stored.\n",
        "    \n",
        "    3. This process continues till no more elements are left in the container.\n",
        "    \n",
        "    4. The final returned result is returned\n",
        "\n",
        "\n",
        "\n",
        "https://docs.python.org/3/library/functools.html\n",
        "\n",
        "https://www.geeksforgeeks.org/reduce-in-python/"
      ]
    },
    {
      "cell_type": "code",
      "execution_count": null,
      "id": "f1319cec",
      "metadata": {
        "id": "f1319cec"
      },
      "outputs": [],
      "source": [
        "import functools\n",
        "\n",
        "# initializing list\n",
        "num_list = [1,2,3,4,5,6,7]\n",
        "\n",
        "# using reduce to compute sum of list\n",
        "# note that we are using a lambda function\n",
        "print(\"The sum of the list elements is : \", end=\"\")\n",
        "print(functools.reduce(lambda a, b: a+b, num_list))"
      ]
    },
    {
      "cell_type": "code",
      "execution_count": null,
      "id": "789450f4",
      "metadata": {
        "id": "789450f4"
      },
      "outputs": [],
      "source": [
        "# using reduce to compute product list\n",
        "print(\"The product of the list elements is : \", end=\"\")\n",
        "print(functools.reduce(lambda a, b: a*b, num_list))"
      ]
    },
    {
      "cell_type": "code",
      "execution_count": null,
      "id": "6ce09ed8",
      "metadata": {
        "id": "6ce09ed8"
      },
      "outputs": [],
      "source": [
        "# using reduce to compute maximum element from list\n",
        "print(\"The maximum element of the list is : \", end=\"\")\n",
        "print(functools.reduce(lambda a, b: a if a > b else b, num_list))"
      ]
    },
    {
      "cell_type": "markdown",
      "id": "aed2e004",
      "metadata": {
        "id": "aed2e004"
      },
      "source": [
        "#### You can also use the functions within the `operator`  module to do the accumulations.\n",
        "\n",
        "The `operator` module has predefined functions for many mathematical, logical, relational, bitwise etc operations.\n",
        "\n",
        "Here are two examples, based on what we have been doing so far:\n",
        "\n",
        "    1. add(a, b) :- This function returns addition of the given arguments.\n",
        "        Operation – a + b.\n",
        "\n",
        "    2. mul(a, b) :- This function returns product of the given arguments.\n",
        "        Operation – a * b.\n",
        "\n",
        "\n",
        "https://docs.python.org/3/library/operator.html\n",
        "\n",
        "https://www.geeksforgeeks.org/operator-functions-in-python-set-1/"
      ]
    },
    {
      "cell_type": "code",
      "execution_count": null,
      "id": "3f347bff",
      "metadata": {
        "id": "3f347bff"
      },
      "outputs": [],
      "source": [
        "a=5\n",
        "b=4\n",
        "\n",
        "# basic working with operator\n",
        "import operator\n",
        "\n",
        "operator.add(a, b)"
      ]
    },
    {
      "cell_type": "code",
      "execution_count": null,
      "id": "271fe980",
      "metadata": {
        "id": "271fe980"
      },
      "outputs": [],
      "source": [
        "operator.mul(a, b)"
      ]
    },
    {
      "cell_type": "markdown",
      "id": "0dc01d2d",
      "metadata": {
        "id": "0dc01d2d"
      },
      "source": [
        "Now let's combine an operator function with reduce()."
      ]
    },
    {
      "cell_type": "code",
      "execution_count": null,
      "id": "d0f9eaf5",
      "metadata": {
        "id": "d0f9eaf5"
      },
      "outputs": [],
      "source": [
        "# add and accumulate the elements of the num_list\n",
        "functools.reduce(operator.add, num_list)"
      ]
    },
    {
      "cell_type": "code",
      "execution_count": null,
      "id": "016233a6",
      "metadata": {
        "id": "016233a6"
      },
      "outputs": [],
      "source": [
        "# multiply and accumulate the elements of the num_list\n",
        "functools.reduce(operator.mul, num_list)"
      ]
    },
    {
      "cell_type": "markdown",
      "id": "71f559bb",
      "metadata": {
        "id": "71f559bb"
      },
      "source": [
        "## A few last symbols for us to know.\n",
        "\n",
        "### pipes\n",
        "\n",
        "Pipe symbols, known as *bars*, can mean different things depending on the\n",
        "context. Three common uses of pipes are: `absolute value`, `euclidean norm`, and `determinant`. We will cover the first two here.\n"
      ]
    },
    {
      "cell_type": "markdown",
      "id": "cee5cdac",
      "metadata": {
        "id": "cee5cdac"
      },
      "source": [
        "#### absolute value\n",
        "\n",
        "$$\\left | x \\right |$$"
      ]
    },
    {
      "cell_type": "code",
      "execution_count": null,
      "id": "b02efa8d",
      "metadata": {
        "id": "b02efa8d"
      },
      "outputs": [],
      "source": [
        "## the abs() function in base Python gives absolute value\n",
        "x = -8\n",
        "abs(x)"
      ]
    },
    {
      "cell_type": "markdown",
      "id": "283cbd19",
      "metadata": {
        "id": "283cbd19"
      },
      "source": [
        "#### Euclidean norm\n",
        "\n",
        "$$\\left \\| \\mathbf{v} \\right \\|$$\n",
        "\n",
        "For a vector **v**, `‖v‖` is the [Euclidean norm](https://en.wikipedia.org/wiki/Norm_%28mathematics%29#Euclidean_norm) of **v**. It is also referred to as the \"magnitude\" or \"length\" of a vector.\n",
        "\n",
        "The **numpy** function `linalg.norm` computes various norms, depending on the value of the **ord** parameter passed in. The default value of the ord parameter in numpy.linalg.norm is 2, and because the Euclidean distance is the l2 norm, the function computes the Euclidean norm when the **ord** parameter is not specified.\n",
        "\n",
        "https://numpy.org/devdocs/reference/generated/numpy.linalg.norm.html\n",
        "\n",
        "https://www.geeksforgeeks.org/find-a-matrix-or-vector-norm-using-numpy/\n",
        "\n",
        "https://stackoverflow.com/questions/1401712/how-can-the-euclidean-distance-be-calculated-with-numpy"
      ]
    },
    {
      "cell_type": "code",
      "execution_count": null,
      "id": "c79d7a4f",
      "metadata": {
        "id": "c79d7a4f"
      },
      "outputs": [],
      "source": [
        "v = [0, 4, -3]\n",
        "np.linalg.norm([0, 4, -3])"
      ]
    },
    {
      "cell_type": "markdown",
      "id": "52306957",
      "metadata": {
        "id": "52306957"
      },
      "source": [
        "### hat -- three possible uses\n",
        "\n",
        "#### In **geometry**, the `hat` symbol above a character is used to represent a [unit vector](https://en.wikipedia.org/wiki/Unit_vector). For example, here is the unit vector of **a**:\n",
        "\n",
        "$$\\hat{\\mathbf{a}}$$\n",
        "\n",
        "In Cartesian space, a unit vector is typically length 1. That means each part of the vector will be in the range of -1.0 to 1.0.\n",
        "\n",
        "Let's *normalize* a 3D vector into a unit vector. We will use the sklearn function normalize() to perform this operation:"
      ]
    },
    {
      "cell_type": "code",
      "execution_count": null,
      "id": "1dbee033",
      "metadata": {
        "id": "1dbee033"
      },
      "outputs": [],
      "source": [
        "a = [ 0, 4, -3 ]\n",
        "\n",
        "from sklearn.preprocessing import normalize\n",
        "normalize([a])"
      ]
    },
    {
      "cell_type": "markdown",
      "id": "d1570072",
      "metadata": {
        "id": "d1570072"
      },
      "source": [
        "#### In **statistics**, the `hat` symbol above a character is used to represent a matrix or set of variables that has been normalized. You will see this in many classes in the program, and in a future homework notebook.\n",
        "\n",
        "Normalizing variables means that we perform a computation on the variable such that the range of the values is between 0 and 1.\n",
        "\n",
        "The most common reason to normalize variables is when we conduct some type of multivariate analysis (i.e. we want to understand the relationship between several predictor variables and a response variable) and we want each variable to contribute equally to the analysis.\n",
        "\n",
        "When variables are measured at different scales, they often do not contribute equally to the analysis. For example, if the values of one variable range from 0 to 100,000 and the values of another variable range from 0 to 100, the variable with the larger range will be given a larger weight in the analysis.\n",
        "\n",
        "By normalizing the variables, we can be sure that each variable contributes equally to the analysis.\n",
        "\n",
        "To normalize the values to be between 0 and 1, we use the following formula:\n",
        "\n",
        "$$\\hat{x} = x_{norm} = (x_{i} – x_{min})  /  (x_{max} – x_{min})$$\n",
        "\n",
        "where:\n",
        "\n",
        "$x_{norm}$: The ith normalized value in the dataset\n",
        "\n",
        "$x_i$: The ith value in the dataset\n",
        "\n",
        "$x_{max}$: The minimum value in the dataset\n",
        "\n",
        "$x_{min}$: The maximum value in the dataset\n",
        "\n",
        "\n",
        "\n",
        "https://www.statology.org/normalize-data-in-python/"
      ]
    },
    {
      "cell_type": "markdown",
      "id": "0e787da2",
      "metadata": {
        "id": "0e787da2"
      },
      "source": [
        "Let's do a quick example each for a numpy array and a pandas dataframe."
      ]
    },
    {
      "cell_type": "code",
      "execution_count": null,
      "id": "b15aeb78",
      "metadata": {
        "id": "b15aeb78"
      },
      "outputs": [],
      "source": [
        "#create NumPy array\n",
        "data = np.array([[13, 16, 19, 22, 23, 38, 47, 56, 58, 63, 65, 70, 71]])\n",
        "\n",
        "#normalize all values in array\n",
        "data_norm = (data - data.min())/ (data.max() - data.min())\n",
        "\n",
        "data_norm"
      ]
    },
    {
      "cell_type": "code",
      "execution_count": null,
      "id": "69b73930",
      "metadata": {
        "id": "69b73930"
      },
      "outputs": [],
      "source": [
        "#create DataFrame\n",
        "df = pd.DataFrame({'points': [25, 12, 15, 14, 19, 23, 25, 29],\n",
        "                   'assists': [5, 7, 7, 9, 12, 9, 9, 4],\n",
        "                   'rebounds': [11, 8, 10, 6, 6, 5, 9, 12]})\n",
        "\n",
        "#normalize values in every column\n",
        "df_norm = (df-df.min())/ (df.max() - df.min())\n",
        "\n",
        "df_norm"
      ]
    },
    {
      "cell_type": "markdown",
      "id": "222c72ec",
      "metadata": {
        "id": "222c72ec"
      },
      "source": [
        "#### Finally, the `hat` symbol above a character is used to represent the value of a function or equation.\n",
        "\n",
        "From the equation above, removing the `norm` gives us:\n",
        "\n",
        "$$\\hat{x} = (x_{i} – x_{min})  /  (x_{max} – x_{min})$$\n",
        "\n",
        "$\\hat{x}$ is simply the value of the function. You may see this notation used in homework notebooks and exams."
      ]
    },
    {
      "cell_type": "markdown",
      "id": "e7c5fd5b",
      "metadata": {
        "id": "e7c5fd5b"
      },
      "source": [
        "## Some Useful Functions"
      ]
    },
    {
      "cell_type": "markdown",
      "id": "f8b90107",
      "metadata": {
        "id": "f8b90107"
      },
      "source": [
        "### Square (or Power) -- Number raised to some power\n",
        "\n",
        "We can use two methods for returning a number raised to some power:\n",
        "\n",
        "    1. The pow() function in the `math` module\n",
        "    \n",
        "    2. A lambda function\n",
        "    \n",
        "For example, let's compute\n",
        "\n",
        "$$y = x^{2}$$\n",
        "\n",
        "We might start by writing this as a function:\n",
        "\n",
        "$$f\\left (x  \\right ) = x^{2}$$"
      ]
    },
    {
      "cell_type": "code",
      "execution_count": null,
      "id": "ab58601c",
      "metadata": {
        "id": "ab58601c"
      },
      "outputs": [],
      "source": [
        "import math\n",
        "\n",
        "def square(x):\n",
        "    return math.pow(x,2)\n",
        "square(10)"
      ]
    },
    {
      "cell_type": "markdown",
      "id": "aae617df",
      "metadata": {
        "id": "aae617df"
      },
      "source": [
        "Or just using the `pow()` function:"
      ]
    },
    {
      "cell_type": "code",
      "execution_count": null,
      "id": "d17dc64f",
      "metadata": {
        "id": "d17dc64f"
      },
      "outputs": [],
      "source": [
        "x = 10\n",
        "power = 2\n",
        "math.pow(x,power)"
      ]
    },
    {
      "cell_type": "code",
      "execution_count": null,
      "id": "545a5178",
      "metadata": {
        "id": "545a5178"
      },
      "outputs": [],
      "source": [
        "x**power"
      ]
    },
    {
      "cell_type": "markdown",
      "id": "dad25aa3",
      "metadata": {
        "id": "dad25aa3"
      },
      "source": [
        "We can also use a `lambda` function:"
      ]
    },
    {
      "cell_type": "code",
      "execution_count": null,
      "id": "d09479a6",
      "metadata": {
        "id": "d09479a6"
      },
      "outputs": [],
      "source": [
        "# using a lambda function\n",
        "z = lambda y,pow: y**pow\n",
        "z(x,power)"
      ]
    },
    {
      "cell_type": "markdown",
      "id": "efa618df",
      "metadata": {
        "id": "efa618df"
      },
      "source": [
        "### Square Root\n",
        "\n",
        "We have the function `sqrt()`, which is part of the `math` module.\n",
        "\n",
        "Additionally, from the above, you should be able to see that, as square root is simply raising a number to the 0.5 power, we can use the same code as above."
      ]
    },
    {
      "cell_type": "code",
      "execution_count": null,
      "id": "9c986720",
      "metadata": {
        "id": "9c986720"
      },
      "outputs": [],
      "source": [
        "a = 25\n",
        "sqrtpower = 0.5\n",
        "math.pow(x,power)"
      ]
    },
    {
      "cell_type": "code",
      "execution_count": null,
      "id": "c7bebd80",
      "metadata": {
        "id": "c7bebd80"
      },
      "outputs": [],
      "source": [
        "a**sqrtpower"
      ]
    },
    {
      "cell_type": "markdown",
      "id": "7686899c",
      "metadata": {
        "id": "7686899c"
      },
      "source": [
        "#### Again, something a little more complex. How would we code this function?:\n",
        "\n",
        "$$f(x,y) = \\sqrt{x^2 + y^2}$$"
      ]
    },
    {
      "cell_type": "code",
      "execution_count": null,
      "id": "21fa210c",
      "metadata": {
        "id": "21fa210c"
      },
      "outputs": [],
      "source": [
        "def sqrtsums(x,y):\n",
        "    import math\n",
        "    sums = x**2 + y**2\n",
        "    root = math.sqrt(sums)\n",
        "    return root\n",
        "\n",
        "# return the square root of 125, which is about 11.18\n",
        "sqrtsums(5,10)"
      ]
    },
    {
      "cell_type": "markdown",
      "id": "490919c6",
      "metadata": {
        "id": "490919c6"
      },
      "source": [
        "### Piecewise functions\n",
        "\n",
        "Some functions will use different relationships depending on the input value, *x*.\n",
        "\n",
        "The following function *ƒ* chooses between two \"sub functions\" depending on the input value.\n",
        "\n",
        "\n",
        "$$f(x)=\n",
        "\\begin{cases}\n",
        "    \\frac{x^2-x}{x},& \\text{if } x\\geq 1\\\\\n",
        "    0, & \\text{otherwise}\n",
        "\\end{cases}$$\n",
        "\n",
        "This is very similar to `if` / `else` in code. The right-side conditions are often written as **\"for x < 0\"** or **\"if x = 0\"**. If the condition is true, the function to the left is used.\n",
        "\n",
        "In piecewise functions, **\"otherwise\"** and **\"elsewhere\"** are analogous to the `else` statement in code.\n"
      ]
    },
    {
      "cell_type": "code",
      "execution_count": null,
      "id": "671d572c",
      "metadata": {
        "id": "671d572c"
      },
      "outputs": [],
      "source": [
        "def piece(x):\n",
        "    if (x >= 1):\n",
        "        return (math.pow(x, 2) - x) / x\n",
        "    else:\n",
        "        return 0\n",
        "\n",
        "print(piece(5))\n",
        "print(piece(-3))"
      ]
    },
    {
      "cell_type": "markdown",
      "id": "e07726a0",
      "metadata": {
        "id": "e07726a0"
      },
      "source": [
        "### What are your questions on math as code?"
      ]
    },
    {
      "cell_type": "markdown",
      "id": "8b96b228",
      "metadata": {
        "id": "8b96b228"
      },
      "source": [
        "The above was adapted from\n",
        "\n",
        "https://github.com/Jam3/math-as-code/blob/master/PYTHON-README.md\n",
        "\n",
        "Under the MIT license:\n",
        "\n",
        "https://github.com/Jam3/math-as-code/blob/master/LICENSE.md"
      ]
    },
    {
      "cell_type": "code",
      "execution_count": null,
      "id": "c47dc43f",
      "metadata": {
        "id": "c47dc43f"
      },
      "outputs": [],
      "source": []
    }
  ],
  "metadata": {
    "colab": {
      "provenance": [],
      "include_colab_link": true
    },
    "kernelspec": {
      "display_name": "Python 3 (ipykernel)",
      "language": "python",
      "name": "python3"
    },
    "language_info": {
      "codemirror_mode": {
        "name": "ipython",
        "version": 3
      },
      "file_extension": ".py",
      "mimetype": "text/x-python",
      "name": "python",
      "nbconvert_exporter": "python",
      "pygments_lexer": "ipython3",
      "version": "3.9.13"
    }
  },
  "nbformat": 4,
  "nbformat_minor": 5
}